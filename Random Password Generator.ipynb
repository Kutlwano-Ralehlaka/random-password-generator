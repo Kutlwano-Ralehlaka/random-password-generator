{
 "cells": [
  {
   "cell_type": "code",
   "execution_count": 3,
   "id": "f0b64602",
   "metadata": {},
   "outputs": [
    {
     "name": "stdout",
     "output_type": "stream",
     "text": [
      "Generated Password: !w6o!/o-&|dp30tQc:Ht*%/K1D6@48x%hWqD,+67ANny/(mT9o_|lP0Q\n"
     ]
    }
   ],
   "source": [
    "# Random Password Generator\n",
    "import random, string\n",
    "\n",
    "# Step 1: Define Password Generation Function\n",
    "\n",
    "def generate_password(length=12):\n",
    "    if length < 4:\n",
    "        raise ValueError (\"Password length must be at least 4 characters\")\n",
    "\n",
    "    # Character sets for the password\n",
    "    uppercase = string.ascii_uppercase\n",
    "    lowercase = string.ascii_lowercase\n",
    "    digits = string.digits\n",
    "    special_chars = \"!@#$%^&*()_+-=[]{}|;:',.<>?/\"\n",
    "\n",
    "    # Ensure at least one of each character type\n",
    "    password =[\n",
    "        random.choice(uppercase),\n",
    "        random.choice(lowercase),\n",
    "        random.choice(digits),\n",
    "        random.choice(special_chars)\n",
    "    ]\n",
    "\n",
    "    # Fill the remaining length with random choices from all sets\n",
    "    all_chars = uppercase + lowercase +digits + special_chars\n",
    "    password += random.choices (all_chars, k=length - 4)\n",
    "\n",
    "    # Shuffle the password to make it more random\n",
    "    random.shuffle(password)\n",
    "\n",
    "    # Convert the list to a string and return\n",
    "    return ''.join(password)\n",
    "\n",
    "# Step 2: User Interaction\n",
    "\n",
    "try:\n",
    "    length = int(input(\"Enter the desired password length (minimum 4): \"))\n",
    "    password = generate_password(length)\n",
    "    print(\"Generated Password:\", password)\n",
    "except ValueError as e:\n",
    "    print(e)\n"
   ]
  }
 ],
 "metadata": {
  "kernelspec": {
   "display_name": "Python 3",
   "language": "python",
   "name": "python3"
  },
  "language_info": {
   "codemirror_mode": {
    "name": "ipython",
    "version": 3
   },
   "file_extension": ".py",
   "mimetype": "text/x-python",
   "name": "python",
   "nbconvert_exporter": "python",
   "pygments_lexer": "ipython3",
   "version": "3.13.8"
  }
 },
 "nbformat": 4,
 "nbformat_minor": 5
}
